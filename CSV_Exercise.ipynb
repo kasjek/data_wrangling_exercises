{
 "cells": [
  {
   "cell_type": "code",
   "execution_count": 1,
   "id": "aa8b64b7-b870-421a-8d7f-16147f850b50",
   "metadata": {
    "execution": {
     "iopub.execute_input": "2025-10-19T06:13:52.235011Z",
     "iopub.status.busy": "2025-10-19T06:13:52.234153Z",
     "iopub.status.idle": "2025-10-19T06:13:52.252368Z",
     "shell.execute_reply": "2025-10-19T06:13:52.250408Z",
     "shell.execute_reply.started": "2025-10-19T06:13:52.234930Z"
    }
   },
   "outputs": [
    {
     "name": "stdout",
     "output_type": "stream",
     "text": [
      "['tripduration', 'starttime', 'stoptime', 'start station id', 'start station name', 'start station latitude', 'start station longitude', 'end station id', 'end station name', 'end station latitude', 'end station longitude', 'bikeid', 'usertype', 'birth year', 'gender']\n"
     ]
    }
   ],
   "source": [
    "#question: How many Citi Bike rides each day are taken by subscribers vs customers\n",
    "#answer: Choose a single day of rides to examine\n",
    "#the dataset used for this exercise was  generated from the original Citi Bike system data found here: https://s3amazonaws.com/tripdata/index.html\n",
    "#file name: JC-202009-citibike-tripdata.csv.zip\n",
    "\n",
    "#program outline:\n",
    "#1. read in the daa file \n",
    "#2. craete variables to count subscribers, customers and others\n",
    "#3. print out the results\n",
    "\n",
    "#import the csv library\n",
    "import csv\n",
    "\n",
    "#open the file in the read mode \n",
    "#make sure the notebook your are writing this code in is in the same folder as the downloaded csv file for the exercise\n",
    "source_file = open(\"JC-202009-citibike-tripdata.csv\",\"r\")\n",
    "\n",
    "#pass our source file as an ingredient to the csv library\n",
    "#store the result in a variable called citibike_reader\n",
    "citibike_reader = csv.DictReader(source_file)\n",
    "\n",
    "#the DictReader method has added some useful information to our data\n",
    "#for example 'fieldnames' propertz that lets us access all the values in the first header row\n",
    "print(citibike_reader.fieldnames)\n",
    "\n"
   ]
  }
 ],
 "metadata": {
  "kernelspec": {
   "display_name": "Python 3 (ipykernel)",
   "language": "python",
   "name": "python3"
  },
  "language_info": {
   "codemirror_mode": {
    "name": "ipython",
    "version": 3
   },
   "file_extension": ".py",
   "mimetype": "text/x-python",
   "name": "python",
   "nbconvert_exporter": "python",
   "pygments_lexer": "ipython3",
   "version": "3.13.7"
  }
 },
 "nbformat": 4,
 "nbformat_minor": 5
}
