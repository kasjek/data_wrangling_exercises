{
 "cells": [
  {
   "cell_type": "code",
   "execution_count": 2,
   "id": "e6f0df9f-7e58-4a1d-b331-93b46a57de6d",
   "metadata": {
    "execution": {
     "iopub.execute_input": "2025-10-25T06:48:42.584730Z",
     "iopub.status.busy": "2025-10-25T06:48:42.583908Z",
     "iopub.status.idle": "2025-10-25T06:48:42.593747Z",
     "shell.execute_reply": "2025-10-25T06:48:42.592928Z",
     "shell.execute_reply.started": "2025-10-25T06:48:42.584634Z"
    }
   },
   "outputs": [
    {
     "name": "stdout",
     "output_type": "stream",
     "text": [
      "['', 'Justice', 'Term Start/End', 'Party', 'State', 'Pres Appt', 'Other Offices Held', 'Relevant Prosecutorial Background']\n",
      "{'': '40', 'Justice': 'William Strong', 'Term Start/End': '1870-1880', 'Party': 'D/R', 'State': 'PA', 'Pres Appt': 'Grant', 'Other Offices Held': 'US House, Supr Court of PA, elect comm for elec of 1876', 'Relevant Prosecutorial Background': 'lawyer'}\n"
     ]
    }
   ],
   "source": [
    "import csv\n",
    "tsv_source_file = open(\"Shugerman Research on Rise of Prosecutor Politicians - Supreme Court Justices.tsv\",\"r\")\n",
    "polititians_reader = csv.DictReader(tsv_source_file, delimiter = '\\t')\n",
    "print(polititians_reader.fieldnames)\n",
    "print(next(polititians_reader))"
   ]
  },
  {
   "cell_type": "code",
   "execution_count": null,
   "id": "cedda43f-6ccc-44c0-ab28-e1071a8ea1b2",
   "metadata": {},
   "outputs": [],
   "source": []
  }
 ],
 "metadata": {
  "kernelspec": {
   "display_name": "Python 3 (ipykernel)",
   "language": "python",
   "name": "python3"
  },
  "language_info": {
   "codemirror_mode": {
    "name": "ipython",
    "version": 3
   },
   "file_extension": ".py",
   "mimetype": "text/x-python",
   "name": "python",
   "nbconvert_exporter": "python",
   "pygments_lexer": "ipython3",
   "version": "3.13.7"
  }
 },
 "nbformat": 4,
 "nbformat_minor": 5
}
