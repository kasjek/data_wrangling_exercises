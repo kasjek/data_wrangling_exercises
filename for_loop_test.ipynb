{
 "cells": [
  {
   "cell_type": "code",
   "execution_count": 23,
   "id": "7fa1c07d-2a76-4fe1-b6c6-b609250f9d15",
   "metadata": {
    "execution": {
     "iopub.execute_input": "2025-10-18T18:11:54.128297Z",
     "iopub.status.busy": "2025-10-18T18:11:54.127534Z",
     "iopub.status.idle": "2025-10-18T18:11:54.143868Z",
     "shell.execute_reply": "2025-10-18T18:11:54.142201Z",
     "shell.execute_reply.started": "2025-10-18T18:11:54.128227Z"
    }
   },
   "outputs": [
    {
     "name": "stdout",
     "output_type": "stream",
     "text": [
      "This book has  2 long chapters\n",
      "This book has  4 short chapters\n",
      "This book has  1 chapter/s with exactly 30 pages\n",
      "This book has  7 chapters in total\n",
      "Which is same as 7\n"
     ]
    }
   ],
   "source": [
    "page_counts = [7, 21, 30, 43, 5, 17, 90]\n",
    "\n",
    "def count_pages(list_of_chapters):\n",
    "    long=0\n",
    "    short=0\n",
    "    exactly_30=0\n",
    "    total=0\n",
    "\n",
    "    for number in list_of_chapters:\n",
    "        total=total+1\n",
    "        if number>30:\n",
    "            long=long+1\n",
    "        if number<30:\n",
    "            short=short+1\n",
    "        if number==30:\n",
    "            exactly_30=exactly_30+1\n",
    "            \n",
    "    print(\"This book has \",long ,\"long chapters\")\n",
    "    print(\"This book has \",short ,\"short chapters\")\n",
    "    print(\"This book has \",exactly_30 ,\"chapter/s with exactly 30 pages\")\n",
    "    print(\"This book has \",long+short+exactly_30, \"chapters in total\")\n",
    "    print(\"Which is same as\", total)\n",
    "\n",
    "count_pages(page_counts)\n",
    "    \n",
    "    "
   ]
  },
  {
   "cell_type": "code",
   "execution_count": null,
   "id": "0ed00dfc-a136-440f-af1d-6a81d68930eb",
   "metadata": {},
   "outputs": [],
   "source": []
  }
 ],
 "metadata": {
  "kernelspec": {
   "display_name": "Python 3 (ipykernel)",
   "language": "python",
   "name": "python3"
  },
  "language_info": {
   "codemirror_mode": {
    "name": "ipython",
    "version": 3
   },
   "file_extension": ".py",
   "mimetype": "text/x-python",
   "name": "python",
   "nbconvert_exporter": "python",
   "pygments_lexer": "ipython3",
   "version": "3.13.7"
  }
 },
 "nbformat": 4,
 "nbformat_minor": 5
}
